{
 "cells": [
  {
   "cell_type": "code",
   "execution_count": 2,
   "metadata": {
    "collapsed": false
   },
   "outputs": [
    {
     "name": "stdout",
     "output_type": "stream",
     "text": [
      "import done\n"
     ]
    }
   ],
   "source": [
    "#导入必要的库\n",
    "%matplotlib inline\n",
    "\n",
    "#==================自带库===================\n",
    "from os import listdir,makedirs\n",
    "from os.path import join,exists,expanduser\n",
    "\n",
    "#====================数据处理库==============\n",
    "import numpy as np\n",
    "import pandas as pd\n",
    "\n",
    "#===================绘图库==================\n",
    "import matplotlib.pyplot as plt\n",
    "from mpl_toolkits.axes_grid1 import ImageGrid\n",
    "\n",
    "#===================时间,进度处理============\n",
    "from tqdm import tqdm\n",
    "import datetime as dt\n",
    "\n",
    "#================= sklearn=================\n",
    "from sklearn.metrics import log_loss,accuracy_score\n",
    "from sklearn.linear_model import LogisticRegression\n",
    "\n",
    "#====================Keras=================\n",
    "from keras.preprocessing import image\n",
    "from keras.applications.vgg16 import VGG16\n",
    "from keras.applications.resnet50 import ResNet50\n",
    "from keras.applications import xception\n",
    "from keras.applications import inception_v3\n",
    "from keras.applications.vgg16 import preprocess_input,decode_predictions\n",
    "\n",
    "\n",
    "print(\"import done\")"
   ]
  },
  {
   "cell_type": "code",
   "execution_count": 18,
   "metadata": {
    "collapsed": false
   },
   "outputs": [],
   "source": [
    "INPUT_SIZE = 224\n",
    "NUM_CLASSES = 16\n",
    "SEED = 1987\n",
    "data_dir = 'data/train'\n",
    "labels = pd.read_csv('data/labels.csv')\n",
    "#print(len(listdir(data_dir)),len(labels))\n",
    "# 10222 10222\n",
    "selected_breed_list = list(labels.groupby('breed').count().sort_values(\n",
    "    by='id',ascending=False).head(NUM_CLASSES).index)\n",
    "# ['scottish_deerhound', 'maltese_dog', 'afghan_hound', 'entlebucher', \n",
    "#  'bernese_mountain_dog', 'shih-tzu', 'great_pyrenees', 'pomeranian',\n",
    "#  'basenji', 'samoyed', 'airedale', 'tibetan_terrier', 'leonberg', \n",
    "#  'cairn', 'beagle', 'japanese_spaniel']\n",
    "labels = labels[labels['breed'].isin(selected_breed_list)]\n",
    "# [1777 rows x 2 columns]\n",
    "\n",
    "labels['target'] = 1\n",
    "labels['rank'] = labels.groupby('breed').rank()['id']\n",
    "labels_pivot = labels.pivot('id','breed','target').reset_index().fillna(0)\n",
    "\n",
    "np.random.seed(seed=SEED)\n",
    "rnd = np.random.random(len(labels))\n",
    "train_idx = rnd < 0.8\n",
    "valid_idx = rnd >= 0.8\n",
    "\n",
    "y_train = labels_pivot[selected_breed_list].values\n",
    "ytr = y_train[train_idx]\n",
    "yv = y_train[valid_idx]\n"
   ]
  },
  {
   "cell_type": "code",
   "execution_count": null,
   "metadata": {
    "collapsed": true
   },
   "outputs": [],
   "source": [
    "def read_img(img_id, train_or_test, size):\n",
    "    \"\"\"Read and resize image\n",
    "       # Arguments\n",
    "           img_id:string\n",
    "           train_or_test:string 'train' or 'test'\n",
    "           size:resize the original image\n",
    "           \n",
    "        # Returns\n",
    "           Image as numpy array\n",
    "    \"\"\"\n",
    "     img = image.load_img()"
   ]
  }
 ],
 "metadata": {
  "anaconda-cloud": {},
  "kernelspec": {
   "display_name": "Python [conda root]",
   "language": "python",
   "name": "conda-root-py"
  },
  "language_info": {
   "codemirror_mode": {
    "name": "ipython",
    "version": 3
   },
   "file_extension": ".py",
   "mimetype": "text/x-python",
   "name": "python",
   "nbconvert_exporter": "python",
   "pygments_lexer": "ipython3",
   "version": "3.5.2"
  }
 },
 "nbformat": 4,
 "nbformat_minor": 1
}
